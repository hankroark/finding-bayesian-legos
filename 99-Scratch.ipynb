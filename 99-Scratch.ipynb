{
 "cells": [
  {
   "cell_type": "code",
   "execution_count": 1,
   "metadata": {},
   "outputs": [],
   "source": [
    "import numpy as np\n",
    "import matplotlib.pyplot as plt\n",
    "plt.style.use('seaborn-darkgrid')\n",
    "\n",
    "np.random.seed(42)  # It's nice to replicate even virtual experiments"
   ]
  },
  {
   "cell_type": "code",
   "execution_count": 2,
   "metadata": {},
   "outputs": [
    {
     "name": "stdout",
     "output_type": "stream",
     "text": [
      "Running on PyMC3 v3.6\n"
     ]
    }
   ],
   "source": [
    "import pymc3 as pm\n",
    "import scipy.stats as stats\n",
    "print('Running on PyMC3 v{}'.format(pm.__version__))"
   ]
  },
  {
   "cell_type": "markdown",
   "metadata": {},
   "source": [
    "## Bayesians do it in passes - first pass"
   ]
  },
  {
   "cell_type": "code",
   "execution_count": null,
   "metadata": {},
   "outputs": [],
   "source": [
    "np.random.seed(42)\n",
    "N_0 = int(np.random.randn()*standard_deviation+mean)\n",
    "X_1 = np.random.binomial(N_0, actual_prob)\n",
    "X_1"
   ]
  },
  {
   "cell_type": "code",
   "execution_count": null,
   "metadata": {},
   "outputs": [],
   "source": [
    "basic_model = pm.Model()\n",
    "\n",
    "with basic_model:\n",
    "    p = pm.Beta('p', alpha=alpha, beta=beta)\n",
    "    n_0 = pm.DiscreteUniform('n_0', lower=0, upper=3000)  # Lots of legos\n",
    "    x_1 = pm.Binomial('x_1', n=n_0, p=p, observed=X_1)"
   ]
  },
  {
   "cell_type": "code",
   "execution_count": null,
   "metadata": {},
   "outputs": [],
   "source": [
    "with basic_model:\n",
    "    step = pm.Slice()\n",
    "    trace = pm.sample(50000, step, tune=5000, random_seed=123, progressbar=True)"
   ]
  },
  {
   "cell_type": "code",
   "execution_count": null,
   "metadata": {},
   "outputs": [],
   "source": [
    "pm.traceplot(trace, varnames=['n_0', 'p']);"
   ]
  },
  {
   "cell_type": "code",
   "execution_count": null,
   "metadata": {},
   "outputs": [],
   "source": [
    "pm.summary(trace).round(2)"
   ]
  },
  {
   "cell_type": "markdown",
   "metadata": {},
   "source": [
    "## Second pass"
   ]
  },
  {
   "cell_type": "code",
   "execution_count": null,
   "metadata": {},
   "outputs": [],
   "source": [
    "N_1 = N_0 - X_1       # Number remaining after first removal, only I know\n",
    "X_2 = np.random.binomial(N_1, actual_prob)  # Second Removal\n",
    "print('First removal = {}, Second removal = {}'.format(X_1, X_2))"
   ]
  },
  {
   "cell_type": "code",
   "execution_count": null,
   "metadata": {},
   "outputs": [],
   "source": [
    "basic_model = pm.Model()\n",
    "\n",
    "with basic_model:\n",
    "    p = pm.Beta('p', alpha=alpha, beta=beta)\n",
    "    n_0 = pm.DiscreteUniform('n_0', lower=0, upper=3000)\n",
    "    x_1 = pm.Binomial('x_1', n=n_0, p=p, observed=X_1)\n",
    "    n_1 = n_0 - x_1\n",
    "    x_2 = pm.Binomial('x_2', n=n_1, p=p, observed=X_2)"
   ]
  },
  {
   "cell_type": "code",
   "execution_count": null,
   "metadata": {},
   "outputs": [],
   "source": [
    "with basic_model:\n",
    "    step = pm.Slice()\n",
    "    trace = pm.sample(50000, step, tuning=5000, random_seed=123, progressbar=True)"
   ]
  },
  {
   "cell_type": "code",
   "execution_count": null,
   "metadata": {},
   "outputs": [],
   "source": [
    "pm.traceplot(trace, varnames=['n_0', 'p']);"
   ]
  },
  {
   "cell_type": "code",
   "execution_count": null,
   "metadata": {},
   "outputs": [],
   "source": [
    "pm.summary(trace).round(2)"
   ]
  },
  {
   "cell_type": "markdown",
   "metadata": {},
   "source": [
    "## Pass Three"
   ]
  },
  {
   "cell_type": "code",
   "execution_count": null,
   "metadata": {},
   "outputs": [],
   "source": [
    "N_2 = N_1 - X_2\n",
    "X_3 = np.random.binomial(N_2, actual_prob) # Third Removal\n",
    "print('First removal = {}, Second removal = {}, Third removal = {}'.format(X_1, X_2, X_3))"
   ]
  },
  {
   "cell_type": "code",
   "execution_count": null,
   "metadata": {},
   "outputs": [],
   "source": [
    "basic_model = pm.Model()\n",
    "\n",
    "with basic_model:\n",
    "    p = pm.Beta('p', alpha=alpha, beta=beta)\n",
    "    n_0 = pm.DiscreteUniform('n_0', lower=0, upper=3000) # Loosen prior, was X_1+X_2+X_3\n",
    "    x_1 = pm.Binomial('x_1', n=n_0, p=p, observed=X_1)\n",
    "    n_1 = n_0 - x_1\n",
    "    x_2 = pm.Binomial('x_2', n=n_1, p=p, observed=X_2)\n",
    "    n_2 = n_1 - x_2\n",
    "    x_3 = pm.Binomial('x_3', n=n_2, p=p, observed=X_3)"
   ]
  },
  {
   "cell_type": "code",
   "execution_count": null,
   "metadata": {},
   "outputs": [],
   "source": [
    "with basic_model:\n",
    "    step = pm.Slice()\n",
    "    trace = pm.sample(50000, step, tuning=5000, random_seed=123, progressbar=True)"
   ]
  },
  {
   "cell_type": "code",
   "execution_count": null,
   "metadata": {},
   "outputs": [],
   "source": [
    "pm.traceplot(trace, varnames=['n_0', 'p']);"
   ]
  },
  {
   "cell_type": "code",
   "execution_count": null,
   "metadata": {},
   "outputs": [],
   "source": [
    "pm.summary(trace).round(2)"
   ]
  },
  {
   "cell_type": "code",
   "execution_count": null,
   "metadata": {},
   "outputs": [],
   "source": [
    "N_3 = N_2 - X_3\n",
    "X_4 = np.random.binomial(N_3, actual_prob)\n",
    "N_4 = N_3 - X_4\n",
    "X_5 = np.random.binomial(N_4, actual_prob)\n",
    "print(f'{X_1} {X_2} {X_3} {X_4} {X_5}')"
   ]
  },
  {
   "cell_type": "code",
   "execution_count": null,
   "metadata": {},
   "outputs": [],
   "source": [
    "basic_model = pm.Model()\n",
    "\n",
    "with basic_model:\n",
    "    p = pm.Beta('p', alpha=alpha, beta=beta)\n",
    "    n_0 = pm.DiscreteUniform('n_0', lower=0, upper=3000) # Loosen prior, was X_1+X_2+X_3\n",
    "    x_1 = pm.Binomial('x_1', n=n_0, p=p, observed=X_1)\n",
    "    n_1 = n_0 - x_1\n",
    "    x_2 = pm.Binomial('x_2', n=n_1, p=p, observed=X_2)\n",
    "    n_2 = n_1 - x_2\n",
    "    x_3 = pm.Binomial('x_3', n=n_2, p=p, observed=X_3)\n",
    "    n_3 = n_2 - x_3\n",
    "    x_4 = pm.Binomial('x_4', n=n_3, p=p, observed=X_4)\n",
    "    n_4 = n_3 - x_4\n",
    "    x_5 = pm.Binomial('x_5', n=n_4, p=p, observed=X_5)\n",
    "    "
   ]
  },
  {
   "cell_type": "code",
   "execution_count": null,
   "metadata": {},
   "outputs": [],
   "source": [
    "with basic_model:\n",
    "    step = pm.Slice()\n",
    "    trace = pm.sample(50000, step, tuning=5000, random_seed=123, progressbar=True)"
   ]
  },
  {
   "cell_type": "code",
   "execution_count": null,
   "metadata": {},
   "outputs": [],
   "source": [
    "pm.traceplot(trace, varnames=['n_0', 'p']);"
   ]
  },
  {
   "cell_type": "code",
   "execution_count": null,
   "metadata": {},
   "outputs": [],
   "source": [
    "pm.summary(trace).round(2)"
   ]
  },
  {
   "cell_type": "code",
   "execution_count": null,
   "metadata": {},
   "outputs": [],
   "source": [
    "N_0"
   ]
  }
 ],
 "metadata": {
  "kernelspec": {
   "display_name": "Python 3",
   "language": "python",
   "name": "python3"
  },
  "language_info": {
   "codemirror_mode": {
    "name": "ipython",
    "version": 3
   },
   "file_extension": ".py",
   "mimetype": "text/x-python",
   "name": "python",
   "nbconvert_exporter": "python",
   "pygments_lexer": "ipython3",
   "version": "3.7.1"
  }
 },
 "nbformat": 4,
 "nbformat_minor": 2
}
